{
  "nbformat": 4,
  "nbformat_minor": 0,
  "metadata": {
    "colab": {
      "provenance": [],
      "include_colab_link": true
    },
    "kernelspec": {
      "name": "python3",
      "display_name": "Python 3"
    },
    "language_info": {
      "name": "python"
    }
  },
  "cells": [
    {
      "cell_type": "markdown",
      "metadata": {
        "id": "view-in-github",
        "colab_type": "text"
      },
      "source": [
        "<a href=\"https://colab.research.google.com/github/Sun0rise/study_project/blob/main/%D0%9A%D1%83%D1%80%D1%81%D0%BE%D0%B2%D0%B0%D1%8F_%D0%A1%D0%BA%D0%B2%D0%B0%D0%B6_%D0%B4%D0%BE%D0%B1%D1%8B%D1%87%D0%B0_%D0%AD%D0%A6%D0%9D.ipynb\" target=\"_parent\"><img src=\"https://colab.research.google.com/assets/colab-badge.svg\" alt=\"Open In Colab\"/></a>"
      ]
    },
    {
      "cell_type": "code",
      "execution_count": null,
      "metadata": {
        "id": "NTW9UfyUOPMN"
      },
      "outputs": [],
      "source": [
        "import numpy as np\n",
        "import matplotlib as mpl\n",
        "import math\n",
        "import matplotlib.pyplot as plt\n",
        "import pandas as pd"
      ]
    },
    {
      "cell_type": "code",
      "source": [
        "D_casing = 0.168 #м\n",
        "P_formation = 12.9 #МПа\n",
        "H_w = 1757 #м\n",
        "gradP = 22 #атм/м\n",
        "K_prod = 16.16 #т/(сут*атм)\n",
        "rho_od = 848 #кг/м^3\n",
        "rho_of = 790 #кг/м^3\n",
        "rho_w = 1169 #кг/м^3\n",
        "beta_w = 0.25\n",
        "mu_od = 9.2 #мПа*с\n",
        "P_surface = 1.1 #МПа\n",
        "mu_of = 3.6 #мПа*с\n",
        "T_formation = 353 #K\n",
        "P_sat = 8.5 #МПа\n",
        "W = 0.0197 #K/м\n",
        "G_0 = 88  #м^3/м^3\n",
        "rho_g0 = 1.448 #кг/м^3\n",
        "L_well = 1760 #м\n",
        "y_n = 0.036\n",
        "y_m = 0.367\n",
        "\n",
        "P_0 = 0.1\n",
        "T_0 = 273\n",
        "rho_w_st = 1000\n",
        "g = 9.81\n",
        "beta = 0.08\n",
        "rho_n = 0.97"
      ],
      "metadata": {
        "id": "kx9davpcOd4r"
      },
      "execution_count": null,
      "outputs": []
    },
    {
      "cell_type": "markdown",
      "source": [
        "# **2.2 Определение дебита и забойного давления**"
      ],
      "metadata": {
        "id": "2CHlUZq7Q1ie"
      }
    },
    {
      "cell_type": "markdown",
      "source": [
        "Оценка забойного давления ($P_{заб} \\geq 0.75 P_{нас}$)"
      ],
      "metadata": {
        "id": "iwCEMqwV2Xig"
      }
    },
    {
      "cell_type": "code",
      "source": [
        "P_bh1 = 0.75 * P_sat\n",
        "P_bh2 = rho_w_st * g * H_w * 10 ** (-6) - gradP * (L_well - H_w) * 0.1\n",
        "P_bh = max(P_bh1, P_bh2)\n",
        "print(\"P_заб1 =\", P_bh1, \"МПа\")\n",
        "print(\"P_заб2 =\", P_bh2, \"МПа\")\n",
        "print(\"P_заб =\", P_bh, \"МПа\")"
      ],
      "metadata": {
        "colab": {
          "base_uri": "https://localhost:8080/"
        },
        "id": "lx_LPq1j3NWr",
        "outputId": "e60cdd63-3d57-4886-c905-1795ec9a2d8e"
      },
      "execution_count": null,
      "outputs": [
        {
          "output_type": "stream",
          "name": "stdout",
          "text": [
            "P_заб1 = 6.375 МПа\n",
            "P_заб2 = 10.636169999999996 МПа\n",
            "P_заб = 10.636169999999996 МПа\n"
          ]
        }
      ]
    },
    {
      "cell_type": "markdown",
      "source": [
        "Расчет массового дебита по жидкости, плотности жидкости при стандартных условиях и объемного дебита по жидкости"
      ],
      "metadata": {
        "id": "b4XLnaZl1s_G"
      }
    },
    {
      "cell_type": "code",
      "source": [
        "Q_m = K_prod * (P_formation - P_bh) #т/сут\n",
        "rho_l0 = rho_od * (1 - beta_w) + rho_w * beta_w #кг/м^3\n",
        "Q = Q_m / (rho_l0 + G_0 * rho_g0) * 1000 #м^3/сут\n",
        "Q_m, rho_l0, Q"
      ],
      "metadata": {
        "colab": {
          "base_uri": "https://localhost:8080/"
        },
        "id": "DI93ywLM2VJV",
        "outputId": "caaf64d6-879f-4a71-c426-71804c0d1822"
      },
      "execution_count": null,
      "outputs": [
        {
          "output_type": "execute_result",
          "data": {
            "text/plain": [
              "(36.583492800000066, 928.25, 34.6541572493024)"
            ]
          },
          "metadata": {},
          "execution_count": 69
        }
      ]
    },
    {
      "cell_type": "markdown",
      "source": [
        "Дебит по нефти\n"
      ],
      "metadata": {
        "id": "8nCdeAIE5sP2"
      }
    },
    {
      "cell_type": "code",
      "source": [
        "Q_o = Q * (1 - beta_w)\n",
        "\"Q_н = \", Q_o"
      ],
      "metadata": {
        "colab": {
          "base_uri": "https://localhost:8080/"
        },
        "id": "dmG6tP75E2ua",
        "outputId": "e39fcf39-6d92-42b3-97a2-69fe30675961"
      },
      "execution_count": null,
      "outputs": [
        {
          "output_type": "execute_result",
          "data": {
            "text/plain": [
              "('Q_н = ', 25.9906179369768)"
            ]
          },
          "metadata": {},
          "execution_count": 70
        }
      ]
    },
    {
      "cell_type": "markdown",
      "source": [
        "# **2.3 Определение диаметра НКТ**"
      ],
      "metadata": {
        "id": "hDGGv5s1WTls"
      }
    },
    {
      "cell_type": "code",
      "source": [
        "d_casing = 0.1321\n",
        "D_tub = 0.0483\n",
        "d_tub = 0.0403"
      ],
      "metadata": {
        "id": "xY3W0ll1Wddz"
      },
      "execution_count": null,
      "outputs": []
    },
    {
      "cell_type": "markdown",
      "source": [
        "# **2.4 Определение давления на приеме насоса**"
      ],
      "metadata": {
        "id": "id13nBI-RIAf"
      }
    },
    {
      "cell_type": "markdown",
      "source": [
        "Давление на приеме насоса"
      ],
      "metadata": {
        "id": "jeR5ynQ6OKJA"
      }
    },
    {
      "cell_type": "code",
      "source": [
        "P_pump = 0.5 + 0.3 * P_sat * (1 - beta_w)\n",
        "P_pump"
      ],
      "metadata": {
        "colab": {
          "base_uri": "https://localhost:8080/",
          "height": 164
        },
        "id": "5F5VFAqjONyn",
        "outputId": "9b1c0fdd-0502-4536-fdce-f7ac317b482a"
      },
      "execution_count": null,
      "outputs": [
        {
          "output_type": "error",
          "ename": "NameError",
          "evalue": "name 'P_sat' is not defined",
          "traceback": [
            "\u001b[0;31m---------------------------------------------------------------------------\u001b[0m",
            "\u001b[0;31mNameError\u001b[0m                                 Traceback (most recent call last)",
            "\u001b[0;32m<ipython-input-1-7638f7efffb2>\u001b[0m in \u001b[0;36m<cell line: 1>\u001b[0;34m()\u001b[0m\n\u001b[0;32m----> 1\u001b[0;31m \u001b[0mP_pump\u001b[0m \u001b[0;34m=\u001b[0m \u001b[0;36m0.5\u001b[0m \u001b[0;34m+\u001b[0m \u001b[0;36m0.3\u001b[0m \u001b[0;34m*\u001b[0m \u001b[0mP_sat\u001b[0m \u001b[0;34m*\u001b[0m \u001b[0;34m(\u001b[0m\u001b[0;36m1\u001b[0m \u001b[0;34m-\u001b[0m \u001b[0mbeta_w\u001b[0m\u001b[0;34m)\u001b[0m\u001b[0;34m\u001b[0m\u001b[0;34m\u001b[0m\u001b[0m\n\u001b[0m\u001b[1;32m      2\u001b[0m \u001b[0mP_pump\u001b[0m\u001b[0;34m\u001b[0m\u001b[0;34m\u001b[0m\u001b[0m\n",
            "\u001b[0;31mNameError\u001b[0m: name 'P_sat' is not defined"
          ]
        }
      ]
    },
    {
      "cell_type": "markdown",
      "source": [
        "# **2.5 Определение глубины спуска насоса**"
      ],
      "metadata": {
        "id": "AFNfr05FRWss"
      }
    },
    {
      "cell_type": "markdown",
      "source": [
        "1-2. Расчет градиентного потока в НКТ. Определение температуры на устье скважины при движении по НКТ."
      ],
      "metadata": {
        "id": "-2KiZb5FZSNt"
      }
    },
    {
      "cell_type": "code",
      "source": [
        "W_flow = (3.4 * 10 ** (-3) + 0.79 * W) / (10 ** (Q / (86400 * 20 * d_tub ** 2.67)))\n",
        "T_surface = T_formation - W_flow * L_well\n",
        "\n",
        "W_flow, T_surface"
      ],
      "metadata": {
        "id": "pRkbZ00aRnX3",
        "colab": {
          "base_uri": "https://localhost:8080/"
        },
        "outputId": "addacd17-7c34-4e74-8541-344e33321c88"
      },
      "execution_count": null,
      "outputs": [
        {
          "output_type": "execute_result",
          "data": {
            "text/plain": [
              "(0.014849983359443156, 326.86402928738005)"
            ]
          },
          "metadata": {},
          "execution_count": 73
        }
      ]
    },
    {
      "cell_type": "markdown",
      "source": [
        "Определение дискритизации давлений, меньших давления насыщения. (следующие расчеты приведены для давлений, меньших давления насыщения)"
      ],
      "metadata": {
        "id": "pYeKc3OnZekD"
      }
    },
    {
      "cell_type": "code",
      "source": [
        "delta_P = 0.1 * P_sat\n",
        "N = int((P_sat - P_surface) / delta_P)"
      ],
      "metadata": {
        "id": "lEpJDl1_VLz5"
      },
      "execution_count": null,
      "outputs": []
    },
    {
      "cell_type": "code",
      "source": [
        "P = np.array([P_surface + delta_P * i for i in range(N + 1)] + [P_sat])\n",
        "P"
      ],
      "metadata": {
        "colab": {
          "base_uri": "https://localhost:8080/"
        },
        "id": "HR19yRPHXCCQ",
        "outputId": "b6953ec3-424f-499a-faa3-04f762552f46"
      },
      "execution_count": null,
      "outputs": [
        {
          "output_type": "execute_result",
          "data": {
            "text/plain": [
              "array([1.1 , 1.95, 2.8 , 3.65, 4.5 , 5.35, 6.2 , 7.05, 7.9 , 8.5 ])"
            ]
          },
          "metadata": {},
          "execution_count": 75
        }
      ]
    },
    {
      "cell_type": "markdown",
      "source": [
        "3. Определние температуры потока, соответствующую заданным давлениям"
      ],
      "metadata": {
        "id": "Gmm1SqhUbVck"
      }
    },
    {
      "cell_type": "code",
      "source": [
        "T = T_surface + (T_formation - T_surface) * (P - P_surface) / (P_bh - P_surface)\n",
        "T"
      ],
      "metadata": {
        "colab": {
          "base_uri": "https://localhost:8080/"
        },
        "id": "HMW7jN3GYylw",
        "outputId": "2d321d66-3161-47e5-b0ba-b82630eb718e"
      },
      "execution_count": null,
      "outputs": [
        {
          "output_type": "execute_result",
          "data": {
            "text/plain": [
              "array([326.86402929, 329.19364119, 331.52325309, 333.85286499,\n",
              "       336.18247688, 338.51208878, 340.84170068, 343.17131258,\n",
              "       345.50092448, 347.14535641])"
            ]
          },
          "metadata": {},
          "execution_count": 76
        }
      ]
    },
    {
      "cell_type": "markdown",
      "source": [
        "4-5. Определение относительной плотности газа по воздуху и относительной плотности смеси углеводовородной части газа при стандартных условиях"
      ],
      "metadata": {
        "id": "myAiZdY-c--H"
      }
    },
    {
      "cell_type": "code",
      "source": [
        "rho_g  = rho_g0 / 1.293\n",
        "rho_gc = (rho_g - rho_n * y_n) / (1 - y_n)\n",
        "rho_g, rho_gc"
      ],
      "metadata": {
        "id": "H-CFMstVZIuQ",
        "colab": {
          "base_uri": "https://localhost:8080/"
        },
        "outputId": "f1c0ad2b-e8b4-4433-ce3a-a95992bf1c3d"
      },
      "execution_count": null,
      "outputs": [
        {
          "output_type": "execute_result",
          "data": {
            "text/plain": [
              "(1.119876256767208, 1.125473295401668)"
            ]
          },
          "metadata": {},
          "execution_count": 77
        }
      ]
    },
    {
      "cell_type": "markdown",
      "source": [
        "6. Определение значения приведенных давления и температуры по формулам Ляпкова"
      ],
      "metadata": {
        "id": "mRT2GANbgto7"
      }
    },
    {
      "cell_type": "code",
      "source": [
        "P_ps = 10 * P / (46.9 - 2.06 * rho_gc ** 2)\n",
        "T_ps = T / (97 + 172 * rho_gc ** 2)\n",
        "P_ps, T_ps"
      ],
      "metadata": {
        "colab": {
          "base_uri": "https://localhost:8080/"
        },
        "id": "L-9P0oHyaFk7",
        "outputId": "0b90d128-1e99-4e75-9a56-e2606f5bc070"
      },
      "execution_count": null,
      "outputs": [
        {
          "output_type": "execute_result",
          "data": {
            "text/plain": [
              "(array([0.24835959, 0.44027383, 0.63218806, 0.82410229, 1.01601652,\n",
              "        1.20793075, 1.39984499, 1.59175922, 1.78367345, 1.91914232]),\n",
              " array([1.03808968, 1.04548831, 1.05288694, 1.06028557, 1.0676842 ,\n",
              "        1.07508283, 1.08248146, 1.08988009, 1.09727873, 1.10250129]))"
            ]
          },
          "metadata": {},
          "execution_count": 78
        }
      ]
    },
    {
      "cell_type": "markdown",
      "source": [
        "7. Расчет коэффициента сжимаемости нефтяного газа"
      ],
      "metadata": {
        "id": "fAA5jC_7kuR5"
      }
    },
    {
      "cell_type": "code",
      "source": [
        "z_n = 1 + 0.564 * 10 ** (-10) * (T - 273) ** 3.71 * P ** (14.7 * (T - 273) ** (-0.5))\n",
        "z_c = 1 - P_ps * (0.18 / (T_ps - 0.73) - 0.135) + 0.016 * P_ps ** 3.45 / T_ps ** 6.1\n",
        "z = z_n * y_n + z_c * (1 - y_n)\n",
        "z_c, z_n, z"
      ],
      "metadata": {
        "colab": {
          "base_uri": "https://localhost:8080/"
        },
        "id": "Uh9zGlLEacH5",
        "outputId": "82c056c9-a44a-4316-881f-59eeb3396257"
      },
      "execution_count": null,
      "outputs": [
        {
          "output_type": "execute_result",
          "data": {
            "text/plain": [
              "(array([0.88852984, 0.80896097, 0.73532075, 0.66787561, 0.60691747,\n",
              "        0.5527382 , 0.505614  , 0.46579565, 0.43350255, 0.41533992]),\n",
              " array([1.00018084, 1.0006477 , 1.00146997, 1.00269498, 1.00436025,\n",
              "        1.006496  , 1.00912695, 1.01227347, 1.01595261, 1.01887824]),\n",
              " array([0.89254927, 0.81586169, 0.74490212, 0.67992911, 0.62122541,\n",
              "        0.56907348, 0.52374046, 0.48546885, 0.45447075, 0.4370673 ]))"
            ]
          },
          "metadata": {},
          "execution_count": 79
        }
      ]
    },
    {
      "cell_type": "markdown",
      "source": [
        "8. Расчет равновесного значения $P_{нас T}$"
      ],
      "metadata": {
        "id": "NFHL2pLHo5Ka"
      }
    },
    {
      "cell_type": "code",
      "source": [
        "P_satT = P_sat - (T_formation - T) / (9.157 + 701.8 / (G_0 * (y_m - 0.8 * y_n)))\n",
        "P_satT"
      ],
      "metadata": {
        "id": "SEHZ_U6WdVa6",
        "colab": {
          "base_uri": "https://localhost:8080/"
        },
        "outputId": "a48d8247-a5b5-4c7b-fb28-b7ec1904e263"
      },
      "execution_count": null,
      "outputs": [
        {
          "output_type": "execute_result",
          "data": {
            "text/plain": [
              "array([7.70165578, 7.77281565, 7.84397551, 7.91513538, 7.98629525,\n",
              "       8.05745511, 8.12861498, 8.19977485, 8.27093471, 8.32116521])"
            ]
          },
          "metadata": {},
          "execution_count": 80
        }
      ]
    },
    {
      "cell_type": "markdown",
      "source": [
        "9. Расчет вспомагательных коэффициентов для нахождения приведенного к стандартным условиям объема выделевшегося газа"
      ],
      "metadata": {
        "id": "xwfKwszBQYfc"
      }
    },
    {
      "cell_type": "code",
      "source": [
        "R = (1 + np.log10(P)) / (1 + np.log10(P_satT)) - 1\n",
        "M = 1 + 0.029 * (T - 293) * (rho_od * rho_g * 10 ** (-3) - 0.7966)\n",
        "D = 10 ** (-3) * rho_od * rho_g * (4.5 - 0.003 * (T - 293)) - 4.785\n",
        "R, M, D"
      ],
      "metadata": {
        "id": "qDG_o11vOqDc",
        "colab": {
          "base_uri": "https://localhost:8080/"
        },
        "outputId": "13cfa0c2-0224-44c8-b38e-8914f64e5857"
      },
      "execution_count": null,
      "outputs": [
        {
          "output_type": "execute_result",
          "data": {
            "text/plain": [
              "(array([-0.44800092, -0.31765081, -0.23614127, -0.17707288, -0.13096089,\n",
              "        -0.09329782, -0.06158316, -0.03428401, -0.01039214,  0.00480932]),\n",
              " array([1.15030878, 1.16064898, 1.17098919, 1.1813294 , 1.19166961,\n",
              "        1.20200982, 1.21235002, 1.22269023, 1.23303044, 1.24032941]),\n",
              " array([-0.60802965, -0.61466663, -0.62130361, -0.62794059, -0.63457758,\n",
              "        -0.64121456, -0.64785154, -0.65448853, -0.66112551, -0.66581044]))"
            ]
          },
          "metadata": {},
          "execution_count": 81
        }
      ]
    },
    {
      "cell_type": "markdown",
      "source": [
        "10. Нахождение приведенного к нормальным условиям удельного объема выделевшегося из нефти газа"
      ],
      "metadata": {
        "id": "gQ60zJrOw6ox"
      }
    },
    {
      "cell_type": "code",
      "source": [
        "V_gas_lib = G_0 * R * M * (D * (1 + R) - 1)\n",
        "V_gas_lib[-1] = 0\n",
        "V_gas_lib"
      ],
      "metadata": {
        "colab": {
          "base_uri": "https://localhost:8080/"
        },
        "id": "MIr2xrMSs_uC",
        "outputId": "4e379e2c-1dae-4cd0-b7de-3657e918a5a8"
      },
      "execution_count": null,
      "outputs": [
        {
          "output_type": "execute_result",
          "data": {
            "text/plain": [
              "array([60.57072404, 46.05148354, 35.88212955, 27.92026569, 21.30709839,\n",
              "       15.60635055, 10.56444133,  6.02038462,  1.86536593,  0.        ])"
            ]
          },
          "metadata": {},
          "execution_count": 82
        }
      ]
    },
    {
      "cell_type": "markdown",
      "source": [
        "11. Расчет остаточной газонасыщенности нефти в процессе разгазирования"
      ],
      "metadata": {
        "id": "QVY77XmrQaLx"
      }
    },
    {
      "cell_type": "code",
      "source": [
        "V_gas_disp = G_0 * M  - V_gas_lib\n",
        "V_gas_disp"
      ],
      "metadata": {
        "id": "i9-ZzLzDRBab",
        "colab": {
          "base_uri": "https://localhost:8080/"
        },
        "outputId": "dd53f134-f137-452e-da2e-761897f75a03"
      },
      "execution_count": null,
      "outputs": [
        {
          "output_type": "execute_result",
          "data": {
            "text/plain": [
              "array([ 40.65644822,  56.08562704,  67.16491935,  76.03672152,\n",
              "        83.55982715,  90.1705133 ,  96.12236084, 101.57635587,\n",
              "       106.64131288, 109.14898821])"
            ]
          },
          "metadata": {},
          "execution_count": 83
        }
      ]
    },
    {
      "cell_type": "markdown",
      "source": [
        "12. Расчет вспомагательных коэффициентов для нахождения относительной плотности выделевшегося газа"
      ],
      "metadata": {
        "id": "BGNOX2pMRDN7"
      }
    },
    {
      "cell_type": "code",
      "source": [
        "U = 10 ** (-3) * rho_od * G_0 - 186\n",
        "a = 1 + 0.0054 * (T - 293)\n",
        "U, a"
      ],
      "metadata": {
        "id": "PpfkGBunQZvb",
        "colab": {
          "base_uri": "https://localhost:8080/"
        },
        "outputId": "680c5fdb-f3dd-4121-c54f-276b7b56cd0e"
      },
      "execution_count": null,
      "outputs": [
        {
          "output_type": "execute_result",
          "data": {
            "text/plain": [
              "(-111.376,\n",
              " array([1.18286576, 1.19544566, 1.20802557, 1.22060547, 1.23318538,\n",
              "        1.24576528, 1.25834518, 1.27092509, 1.28350499, 1.29238492]))"
            ]
          },
          "metadata": {},
          "execution_count": 84
        }
      ]
    },
    {
      "cell_type": "markdown",
      "source": [
        "13. Определение относительной плотности выделевшегося из нефти газа"
      ],
      "metadata": {
        "id": "LvdH_1bRzKkH"
      }
    },
    {
      "cell_type": "code",
      "source": [
        "rho_gas_lib = a * (rho_g - 0.0036 * (1 + R) * (105.7 + U * R))\n",
        "rho_gas_lib"
      ],
      "metadata": {
        "colab": {
          "base_uri": "https://localhost:8080/"
        },
        "id": "rCmiFRrvyXay",
        "outputId": "18dfde1e-7999-4634-9835-721e8105ed9d"
      },
      "execution_count": null,
      "outputs": [
        {
          "output_type": "execute_result",
          "data": {
            "text/plain": [
              "array([0.95892006, 0.92446508, 0.91434162, 0.91339109, 0.91694351,\n",
              "       0.92303725, 0.93069538, 0.93937503, 0.94875047, 0.95567187])"
            ]
          },
          "metadata": {},
          "execution_count": 85
        }
      ]
    },
    {
      "cell_type": "markdown",
      "source": [
        "14. Расчет значения относительной плотности нефтяного газа, остающегося в нефти"
      ],
      "metadata": {
        "id": "vj_RcboGRh3c"
      }
    },
    {
      "cell_type": "code",
      "source": [
        "rho_gas_disp = (G_0 * (a * M * rho_g - rho_gas_lib / G_0)) / V_gas_disp\n",
        "rho_gas_disp"
      ],
      "metadata": {
        "id": "9qXj5WMBRisy",
        "colab": {
          "base_uri": "https://localhost:8080/"
        },
        "outputId": "00771d4d-41b8-4ee1-ff1b-28ef55c14ec2"
      },
      "execution_count": null,
      "outputs": [
        {
          "output_type": "execute_result",
          "data": {
            "text/plain": [
              "array([3.27458505, 2.42150659, 2.06196541, 1.85684269, 1.72218949,\n",
              "       1.6263252 , 1.55438728, 1.49838795, 1.45361248, 1.43855553])"
            ]
          },
          "metadata": {},
          "execution_count": 86
        }
      ]
    },
    {
      "cell_type": "markdown",
      "source": [
        "15. Расчет температурного коэффициента объемного расширения дегазированной нефти пр стандартном давлении"
      ],
      "metadata": {
        "id": "XyrrSt9-SCRF"
      }
    },
    {
      "cell_type": "code",
      "source": [
        "a_o = np.where(rho_od < 860,\n",
        "               10 ** (-3) * (3.083 - 2.683 * 10 ** (-3) * rho_od),\n",
        "               10 ** (-3) * (2.513 - 1.975 * 10 ** (-3) * rho_od))\n",
        "a_o"
      ],
      "metadata": {
        "id": "TUx2ZJHMSB_M",
        "colab": {
          "base_uri": "https://localhost:8080/"
        },
        "outputId": "5b217b10-7fb7-41cc-f3e2-32e6f60435b8"
      },
      "execution_count": null,
      "outputs": [
        {
          "output_type": "execute_result",
          "data": {
            "text/plain": [
              "array(0.00080782)"
            ]
          },
          "metadata": {},
          "execution_count": 87
        }
      ]
    },
    {
      "cell_type": "markdown",
      "source": [
        "16. Удельное приращение объема нефти за счет единичного изменения ее газонасыщенности"
      ],
      "metadata": {
        "id": "CXpB76ihSgvi"
      }
    },
    {
      "cell_type": "code",
      "source": [
        "lambda_T = (10 ** (-3) * (4.3 - 3.54 * 10 ** (-3) * rho_od + 1.0337 * rho_gas_disp / a +\n",
        "                         5.581 * 10 ** (-6) * rho_od * (1 - 1.61 * 10 ** (-6) * rho_od * V_gas_disp) * V_gas_disp))\n",
        "lambda_T"
      ],
      "metadata": {
        "id": "pnsKFaDdShY0",
        "colab": {
          "base_uri": "https://localhost:8080/"
        },
        "outputId": "f259a9f8-b251-4806-8c77-b15361d00cc6"
      },
      "execution_count": null,
      "outputs": [
        {
          "output_type": "execute_result",
          "data": {
            "text/plain": [
              "array([0.00434146, 0.00363706, 0.00335121, 0.00319309, 0.00309203,\n",
              "       0.00302177, 0.00297019, 0.00293085, 0.0029    , 0.00288828])"
            ]
          },
          "metadata": {},
          "execution_count": 88
        }
      ]
    },
    {
      "cell_type": "markdown",
      "source": [
        "17. Расчет ряда значений объемного коэффициента нефти"
      ],
      "metadata": {
        "id": "ciggt-hkTStb"
      }
    },
    {
      "cell_type": "code",
      "source": [
        "b_o = 1 + 1.0733 * 10 ** (-3) * rho_od * V_gas_disp * lambda_T / M + a_o * (T - 293) - 6.5 * 10 ** (-4) * P\n",
        "b_o"
      ],
      "metadata": {
        "id": "TPPhDS3LTT2i",
        "colab": {
          "base_uri": "https://localhost:8080/"
        },
        "outputId": "abdd3aeb-d9a3-41b4-ad97-5b0964387e9f"
      },
      "execution_count": null,
      "outputs": [
        {
          "output_type": "execute_result",
          "data": {
            "text/plain": [
              "array([1.16629941, 1.18793294, 1.20424757, 1.21768915, 1.22929256,\n",
              "       1.23960487, 1.24895438, 1.25755516, 1.2655553 , 1.26954842])"
            ]
          },
          "metadata": {},
          "execution_count": 89
        }
      ]
    },
    {
      "cell_type": "markdown",
      "source": [
        "18. Вычисление удельного объема ГЖС при определенных термодинамичнских условиях"
      ],
      "metadata": {
        "id": "RrMFKhVXTry8"
      }
    },
    {
      "cell_type": "code",
      "source": [
        "V_mix = b_o + V_gas_lib * z * P_0 * T / (T_0 * P) + beta_w / (1 - beta_w)\n",
        "V_mix"
      ],
      "metadata": {
        "id": "f2CAeFk7TtI_",
        "colab": {
          "base_uri": "https://localhost:8080/"
        },
        "outputId": "c815acc1-5b89-4280-818d-6c4061efb784"
      },
      "execution_count": null,
      "outputs": [
        {
          "output_type": "execute_result",
          "data": {
            "text/plain": [
              "array([7.38409477, 3.84461471, 2.6968139 , 2.18706007, 1.92484673,\n",
              "       1.7787771 , 1.69370717, 1.64300134, 1.61246957, 1.60288175])"
            ]
          },
          "metadata": {},
          "execution_count": 90
        }
      ]
    },
    {
      "cell_type": "markdown",
      "source": [
        "19. Определение удельной массы смеси при стандартных условиях"
      ],
      "metadata": {
        "id": "3esBUiB-U2y7"
      }
    },
    {
      "cell_type": "code",
      "source": [
        "M_mix = rho_od + rho_g0 * G_0 + rho_w * beta_w / (1 - beta_w)\n",
        "M_mix"
      ],
      "metadata": {
        "id": "S_r2LxAoU3mi",
        "colab": {
          "base_uri": "https://localhost:8080/"
        },
        "outputId": "9a523fd0-267f-4f67-bcf1-05d6a9621523"
      },
      "execution_count": null,
      "outputs": [
        {
          "output_type": "execute_result",
          "data": {
            "text/plain": [
              "1365.0906666666667"
            ]
          },
          "metadata": {},
          "execution_count": 91
        }
      ]
    },
    {
      "cell_type": "markdown",
      "source": [
        "20. Расчет идеальной плотности ГЖС"
      ],
      "metadata": {
        "id": "k3iuV1c4VSmf"
      }
    },
    {
      "cell_type": "code",
      "source": [
        "rho_mix = M_mix / V_mix\n",
        "rho_mix"
      ],
      "metadata": {
        "id": "H2gJgqfQVSQ3",
        "colab": {
          "base_uri": "https://localhost:8080/"
        },
        "outputId": "28fdbc5f-1925-4070-9088-e22517b9a368"
      },
      "execution_count": null,
      "outputs": [
        {
          "output_type": "execute_result",
          "data": {
            "text/plain": [
              "array([184.8690611 , 355.06566171, 506.18645384, 624.16697576,\n",
              "       709.19447456, 767.43211065, 805.97797019, 830.85182715,\n",
              "       846.58383355, 851.64776757])"
            ]
          },
          "metadata": {},
          "execution_count": 92
        }
      ]
    },
    {
      "cell_type": "markdown",
      "source": [
        "21. Расчет корреляционного коэффициента необратимых потерь давления"
      ],
      "metadata": {
        "id": "ZCMUCHxuVYc5"
      }
    },
    {
      "cell_type": "code",
      "source": [
        "f = (10 **\n",
        "    (19.66 * (1 + np.log10(0.99 * 10 ** (-5) * Q * (1 - beta_w) * M_mix / d_tub)) ** (-0.25) - 17.23))\n",
        "f"
      ],
      "metadata": {
        "id": "kt4LJD8VVaez",
        "colab": {
          "base_uri": "https://localhost:8080/"
        },
        "outputId": "c7e94175-8901-4c24-8fdf-32d73dab5fee"
      },
      "execution_count": null,
      "outputs": [
        {
          "output_type": "execute_result",
          "data": {
            "text/plain": [
              "0.26775061455461757"
            ]
          },
          "metadata": {},
          "execution_count": 93
        }
      ]
    },
    {
      "cell_type": "markdown",
      "source": [
        "22. Вычисляем полный градиент давления в точках с заданными давлениями, меньшими давления насыщения"
      ],
      "metadata": {
        "id": "lXqxD_GbW6p4"
      }
    },
    {
      "cell_type": "code",
      "source": [
        "dP_dH_not_sat = (rho_mix * g * 10 ** (-6) +\n",
        "          (f * Q ** 2 * (1 - beta_w) * M_mix ** 2) / (2.3 * 10 ** 15 * rho_mix * d_tub ** 5))\n",
        "dP_dH_not_sat"
      ],
      "metadata": {
        "id": "9eIiGrUrW7bJ",
        "colab": {
          "base_uri": "https://localhost:8080/"
        },
        "outputId": "a876b09f-dbd5-4307-8e1d-d469da0dd722"
      },
      "execution_count": null,
      "outputs": [
        {
          "output_type": "execute_result",
          "data": {
            "text/plain": [
              "array([0.01175635, 0.00866002, 0.00859699, 0.00906798, 0.00954903,\n",
              "       0.00992366, 0.01018724, 0.01036298, 0.0104762 , 0.01051297])"
            ]
          },
          "metadata": {},
          "execution_count": 94
        }
      ]
    },
    {
      "cell_type": "markdown",
      "source": [
        "$P > P_{нас}$"
      ],
      "metadata": {
        "id": "zK8MoGuiadY2"
      }
    },
    {
      "cell_type": "markdown",
      "source": [
        "23. Рассчитываем приведенную скорость жидкости в сечении эксплуатационной колонны"
      ],
      "metadata": {
        "id": "WsE9sDfxaky2"
      }
    },
    {
      "cell_type": "code",
      "source": [
        "b_o_sat = float(b_o[-1])\n",
        "\n",
        "w_l = Q * b_o_sat/ (math.pi * d_tub ** 2 * 0.25 * 86400)\n",
        "b_o_sat, w_l"
      ],
      "metadata": {
        "id": "X8lGMJQlajpu",
        "colab": {
          "base_uri": "https://localhost:8080/"
        },
        "outputId": "7723d1a4-fb13-435f-d8f0-d5befc179bbe"
      },
      "execution_count": null,
      "outputs": [
        {
          "output_type": "execute_result",
          "data": {
            "text/plain": [
              "(1.269548419714956, 0.39920033295977336)"
            ]
          },
          "metadata": {},
          "execution_count": 95
        }
      ]
    },
    {
      "cell_type": "markdown",
      "source": [
        "24. Вычисляем число Рейнольдса однофазного потока"
      ],
      "metadata": {
        "id": "hZ65NCQabSNB"
      }
    },
    {
      "cell_type": "code",
      "source": [
        "rho_ow = rho_od * (1 - beta_w) + rho_w * beta_w\n",
        "\n",
        "Re_l = w_l * rho_ow * d_tub / (mu_of * 10 ** (-3))\n",
        "rho_ow, Re_l"
      ],
      "metadata": {
        "id": "ok_UmGIDYGXR",
        "colab": {
          "base_uri": "https://localhost:8080/"
        },
        "outputId": "9d535b9a-1891-4ab8-ce6b-77c7cc6694b0"
      },
      "execution_count": null,
      "outputs": [
        {
          "output_type": "execute_result",
          "data": {
            "text/plain": [
              "(928.25, 4148.18768764371)"
            ]
          },
          "metadata": {},
          "execution_count": 96
        }
      ]
    },
    {
      "cell_type": "markdown",
      "source": [
        "25. Коэффициент гидравлического сопротивления потока жидкости"
      ],
      "metadata": {
        "id": "ORflbfx_chyn"
      }
    },
    {
      "cell_type": "code",
      "source": [
        "eps = 1.4 * 10 ** (-5)\n",
        "\n",
        "lambda_res = 0.067 * (158 / Re_l + 2 * eps / d_tub)\n",
        "lambda_res"
      ],
      "metadata": {
        "id": "r1rd7l2fci4q",
        "colab": {
          "base_uri": "https://localhost:8080/"
        },
        "outputId": "e63cc935-17a8-4ebc-9237-492f724cb5fc"
      },
      "execution_count": null,
      "outputs": [
        {
          "output_type": "execute_result",
          "data": {
            "text/plain": [
              "0.002598508686483048"
            ]
          },
          "metadata": {},
          "execution_count": 97
        }
      ]
    },
    {
      "cell_type": "markdown",
      "source": [
        "26. Рассчитываем градиенты давления, где P > Pнас"
      ],
      "metadata": {
        "id": "TM7k3-t0c75X"
      }
    },
    {
      "cell_type": "code",
      "source": [
        "dP_dH_sat = rho_ow * g * 10 ** (-6) + (lambda_res * w_l ** 2 * 10 ** (-6)) / (2 * d_tub)\n",
        "dP_dH_sat"
      ],
      "metadata": {
        "id": "NM-x9CJtc9kf",
        "colab": {
          "base_uri": "https://localhost:8080/"
        },
        "outputId": "8f1adce8-2400-41d7-a3f6-e776766db3f6"
      },
      "execution_count": null,
      "outputs": [
        {
          "output_type": "execute_result",
          "data": {
            "text/plain": [
              "0.009106137637725782"
            ]
          },
          "metadata": {},
          "execution_count": 98
        }
      ]
    },
    {
      "cell_type": "markdown",
      "source": [
        "27. Вычисляем $\\frac{dH}{dP}=\\frac{1}{\\frac{dH}{dP}}$"
      ],
      "metadata": {
        "id": "roCw8FEZeEHw"
      }
    },
    {
      "cell_type": "code",
      "source": [
        "dH_dP_not_sat = 1 / dP_dH_not_sat\n",
        "dH_dP_sat = 1 / dP_dH_sat\n",
        "H_bh = L_well\n",
        "dH_dP_not_sat, dH_dP_sat"
      ],
      "metadata": {
        "id": "XcQ7n8lVeFa_",
        "colab": {
          "base_uri": "https://localhost:8080/"
        },
        "outputId": "60f3266a-ecf8-463f-e382-65d4b12426b8"
      },
      "execution_count": null,
      "outputs": [
        {
          "output_type": "execute_result",
          "data": {
            "text/plain": [
              "(array([ 85.0603995 , 115.47315517, 116.31982733, 110.27808398,\n",
              "        104.72267039, 100.76930136,  98.16197396,  96.49733366,\n",
              "         95.45445726,  95.12062377]),\n",
              " 109.81604273771394)"
            ]
          },
          "metadata": {},
          "execution_count": 99
        }
      ]
    },
    {
      "cell_type": "code",
      "source": [
        "H = np.array([0 for i in range(0, np.size(dH_dP_not_sat) + 2)])\n",
        "H[0] = delta_P * dH_dP_not_sat[0] / 2\n",
        "H[1] = delta_P * ((dH_dP_not_sat[0] + dH_dP_not_sat[1]) / 2)\n",
        "for i in range(2, np.size(dH_dP_not_sat)):\n",
        "    H[i] = H[i - 1] + delta_P * ((dH_dP_not_sat[i - 1] + dH_dP_not_sat[i]) / 2)\n",
        "H[-1] = H[-3] + dH_dP_sat * (P_bh - P_sat)\n",
        "H[-2] = L_well\n",
        "H"
      ],
      "metadata": {
        "colab": {
          "base_uri": "https://localhost:8080/"
        },
        "id": "3qeUhPKroKEc",
        "outputId": "ae72844c-e1f6-45c8-9dd3-90ced6098962"
      },
      "execution_count": null,
      "outputs": [
        {
          "output_type": "execute_result",
          "data": {
            "text/plain": [
              "array([  36,   85,  183,  279,  370,  457,  541,  623,  704,  784, 1760,\n",
              "       1018])"
            ]
          },
          "metadata": {},
          "execution_count": 100
        }
      ]
    },
    {
      "cell_type": "code",
      "source": [
        "H = np.array([0 for i in range(0, np.size(dH_dP_not_sat) + 1)])\n",
        "H[-1] = H_bh + (P_sat - P_bh) * dH_dP_sat\n",
        "for i in range(np.size(dH_dP_not_sat) - 1, -1, -1):\n",
        "    H[i] = H[i + 1] - delta_P * ((dH_dP_not_sat[i - 1] + dH_dP_not_sat[i]) / 2)\n",
        "H, np.append(P, np.array(P_bh))"
      ],
      "metadata": {
        "colab": {
          "base_uri": "https://localhost:8080/"
        },
        "id": "yAUaS8NNq2MV",
        "outputId": "09ed6191-55b1-4122-86b6-9237b8373e17"
      },
      "execution_count": null,
      "outputs": [
        {
          "output_type": "execute_result",
          "data": {
            "text/plain": [
              "(array([ 655,  732,  818,  917, 1014, 1106, 1194, 1279, 1362, 1444, 1525]),\n",
              " array([ 1.1    ,  1.95   ,  2.8    ,  3.65   ,  4.5    ,  5.35   ,\n",
              "         6.2    ,  7.05   ,  7.9    ,  8.5    , 10.63617]))"
            ]
          },
          "metadata": {},
          "execution_count": 101
        }
      ]
    },
    {
      "cell_type": "markdown",
      "source": [
        "29. Изменение газосодержания:"
      ],
      "metadata": {
        "id": "sNZpoL568FMo"
      }
    },
    {
      "cell_type": "code",
      "source": [
        "N_g__ = (V_gas_lib * (1 - beta_w) * 0.1 * T * z) / (P * 293)\n",
        "N_g = N_g__ / (1 + N_g__)\n",
        "N_g"
      ],
      "metadata": {
        "colab": {
          "base_uri": "https://localhost:8080/"
        },
        "id": "NJrsajBx8E1b",
        "outputId": "6b71656b-430a-496f-a930-442f75f4c306"
      },
      "execution_count": null,
      "outputs": [
        {
          "output_type": "execute_result",
          "data": {
            "text/plain": [
              "array([0.80438545, 0.61883977, 0.44753773, 0.3077029 , 0.20199304,\n",
              "       0.12575288, 0.07223618, 0.03513716, 0.00940121, 0.        ])"
            ]
          },
          "metadata": {},
          "execution_count": 102
        }
      ]
    },
    {
      "cell_type": "code",
      "source": [
        "fig, ax = plt.subplots(1, 1)  # Create a figure containing a single axes.\n",
        "ax.plot(np.append(P, np.array(P_bh)), H)  # Plot some data on the axes.\n",
        "ax.grid()\n",
        "ax.invert_yaxis()\n",
        "ax.set_ylabel('Н, м')\n",
        "ax.set_xlabel('P, МПа')\n",
        "ax.xaxis.tick_top()\n",
        "ax.xaxis.set_label_position('top')\n",
        "ax.set_xlim(1, 11)\n",
        "ax.set_ylim(1600, 600)\n",
        "\n",
        "ax.plot([P_pump, P_pump], [780, 600], color='black', linewidth=1, linestyle='--')\n",
        "ax.plot([P_pump, 1], [780, 780], color='black', linewidth=1, linestyle='--')\n",
        "\n",
        "ax.text(P_pump, 550, r'$P_{пр}$')\n",
        "ax.text(0.5, 750, r'$H_{сп}$')"
      ],
      "metadata": {
        "colab": {
          "base_uri": "https://localhost:8080/",
          "height": 473
        },
        "id": "OQg9x8EMsaoj",
        "outputId": "31ea1ac1-70c4-4aee-83e7-70c3e006dcd7"
      },
      "execution_count": null,
      "outputs": [
        {
          "output_type": "execute_result",
          "data": {
            "text/plain": [
              "Text(0.5, 750, '$H_{сп}$')"
            ]
          },
          "metadata": {},
          "execution_count": 103
        },
        {
          "output_type": "display_data",
          "data": {
            "text/plain": [
              "<Figure size 640x480 with 1 Axes>"
            ],
            "image/png": "[encoded data removed]"
          },
          "metadata": {}
        }
      ]
    },
    {
      "cell_type": "code",
      "source": [
        "fig, ax = plt.subplots(1, 1)  # Create a figure containing a single axes.\n",
        "ax.plot(H, np.append(N_g, 0), color='orange')  # Plot some data on the axes.\n",
        "ax1 = ax.twinx()\n",
        "ax1.plot(H, np.append(P, np.array(P_bh)))\n",
        "ax.grid()\n",
        "ax.invert_yaxis()\n",
        "ax1.invert_yaxis()\n",
        "ax1.set_ylabel('P, МПа')\n",
        "ax.set_xlabel('Н, м')\n",
        "ax.set_ylabel('N_g, д.ед.')\n",
        "ax.xaxis.tick_top()\n",
        "ax.xaxis.set_label_position('top')\n",
        "ax.set_xlim(600, 1600)\n",
        "ax.set_ylim(1.1, 0)\n",
        "ax1.set_ylim(11, 0)\n",
        "\n",
        "ax.plot([1175, 1175], [0, 0.6], color='black', linewidth=1, linestyle='--')\n",
        "ax.plot([600, 1175], [beta, beta], color='black', linewidth=1, linestyle='--')\n",
        "\n",
        "#ax.text(750, 50, r'$G$')\n",
        "#ax1.text(1000, 4, r'$P$')"
      ],
      "metadata": {
        "colab": {
          "base_uri": "https://localhost:8080/",
          "height": 464
        },
        "id": "J2nRgCmuo3MJ",
        "outputId": "4f854d62-b3b2-4834-e580-db6fe9b0197f"
      },
      "execution_count": null,
      "outputs": [
        {
          "output_type": "execute_result",
          "data": {
            "text/plain": [
              "[<matplotlib.lines.Line2D at 0x7905d19b9db0>]"
            ]
          },
          "metadata": {},
          "execution_count": 104
        },
        {
          "output_type": "display_data",
          "data": {
            "text/plain": [
              "<Figure size 640x480 with 2 Axes>"
            ],
            "image/png": "[encoded data removed]"
          },
          "metadata": {}
        }
      ]
    },
    {
      "cell_type": "code",
      "source": [
        "L_pump = 1175"
      ],
      "metadata": {
        "id": "NB0b7XCwoCXs"
      },
      "execution_count": null,
      "outputs": []
    },
    {
      "cell_type": "markdown",
      "source": [
        "# **2.6 Подбор ЭЦН**"
      ],
      "metadata": {
        "id": "InpO9oB8chPT"
      }
    },
    {
      "cell_type": "code",
      "source": [
        "Q_w_opt_pump = 30\n",
        "Q_w_pump = np.array([20, 25, 30, 35, 40])\n",
        "H_w = np.array([4.52, 4.35, 4.10, 3.74, 3.28])\n",
        "mu_em = mu_of * (1 + 2.9 * beta_w) / (1 - beta_w)"
      ],
      "metadata": {
        "id": "mxob6f_Ti8Jj"
      },
      "execution_count": null,
      "outputs": []
    },
    {
      "cell_type": "markdown",
      "source": [
        "Расчет коэффициента $K_{H, Q}$"
      ],
      "metadata": {
        "id": "zGA5m4IIjih8"
      }
    },
    {
      "cell_type": "code",
      "source": [
        "H_din = L_well - (P_formation * 10 ** 6 - Q_m / K_prod * 10 ** 5) / (rho_mix[-1] * g)\n",
        "\n",
        "omega = 4 * Q / (math.pi * d_tub ** 2 * 86400)\n",
        "Re = omega * d_tub * rho_mix[-1] / mu_em * 10 ** 3\n",
        "lambda_p = 0.3164 / Re ** 0.25\n",
        "h_fr = lambda_p * L_pump * omega ** 2 / (2 * g * d_tub)\n",
        "\n",
        "H_g = 4 * d_tub * G_0 * (1 - (P_surface / P_sat) ** (1 / 3)) * (1 - beta_w)\n",
        "\n",
        "H_well = H_din + P_surface * 10** 6 / (np.mean(rho_mix) * g) + h_fr - H_g\n",
        "H_din, h_fr, H_g, H_well, lambda_p, Re, omega"
      ],
      "metadata": {
        "colab": {
          "base_uri": "https://localhost:8080/"
        },
        "id": "UxAk6sycj-w5",
        "outputId": "e4a6b3e4-47eb-436e-cf64-5943eba15e7a"
      },
      "execution_count": null,
      "outputs": [
        {
          "output_type": "execute_result",
          "data": {
            "text/plain": [
              "(243.04897839119553,\n",
              " 7.737211286573893,\n",
              " 5.2577386417366245,\n",
              " 418.51655952131443,\n",
              " 0.05265836712334186,\n",
              " 1303.3958903537084,\n",
              " 0.31444277883422783)"
            ]
          },
          "metadata": {},
          "execution_count": 107
        }
      ]
    },
    {
      "cell_type": "code",
      "source": [
        "Q_l_pump = np.array([35, 40, 50, 60, 70, 80])\n",
        "Q_opt = 50\n",
        "z_n = 145\n",
        "H_l_pump = np.array([3.94, 3.93, 3.88, 3.75, 3.51, 3.15]) * z_n\n",
        "Q_l_pump_0, H_l_pump_0 = Q_l_pump, H_l_pump\n",
        "H_w_opt = 640\n",
        "\n",
        "n_s = 193 * 50 * Q_opt ** 0.5 * (g * H_w_opt / z_n) ** (-0.75)\n",
        "n_s"
      ],
      "metadata": {
        "colab": {
          "base_uri": "https://localhost:8080/"
        },
        "id": "BWCR9TUKoUgH",
        "outputId": "1fe3ad97-c029-468d-d052-3cedbc4ac096"
      },
      "execution_count": null,
      "outputs": [
        {
          "output_type": "execute_result",
          "data": {
            "text/plain": [
              "4042.5144518138877"
            ]
          },
          "metadata": {},
          "execution_count": 108
        }
      ]
    },
    {
      "cell_type": "code",
      "source": [
        "Re_o = (4.3 + 0.816 * n_s ** 0.274) / n_s ** 0.575 * Q_l_pump * rho_mix[-1] / mu_em * (50 / Q_opt) ** (-0.75)\n",
        "Re_o, Q_l_pump"
      ],
      "metadata": {
        "colab": {
          "base_uri": "https://localhost:8080/"
        },
        "id": "SavB5IIkvpnh",
        "outputId": "7fb9a330-675c-433c-9e11-664fef2db014"
      },
      "execution_count": null,
      "outputs": [
        {
          "output_type": "execute_result",
          "data": {
            "text/plain": [
              "(array([371.80419325, 424.919078  , 531.14884749, 637.37861699,\n",
              "        743.60838649, 849.83815599]),\n",
              " array([35, 40, 50, 60, 70, 80]))"
            ]
          },
          "metadata": {},
          "execution_count": 109
        }
      ]
    },
    {
      "cell_type": "code",
      "source": [
        "K_HQ = Re_o / (Re_o - 50 + 200 * Q_l_pump / Q_opt)\n",
        "K_HQ"
      ],
      "metadata": {
        "colab": {
          "base_uri": "https://localhost:8080/"
        },
        "id": "Rww3TnXtwevl",
        "outputId": "d395c4dc-08a4-4274-8dbf-2d8e2270e50c"
      },
      "execution_count": null,
      "outputs": [
        {
          "output_type": "execute_result",
          "data": {
            "text/plain": [
              "array([0.80511221, 0.79436142, 0.77978382, 0.77035906, 0.76376539,\n",
              "       0.75889373])"
            ]
          },
          "metadata": {},
          "execution_count": 110
        }
      ]
    },
    {
      "cell_type": "code",
      "source": [
        "Q_l_pump = Q_l_pump_0 * K_HQ\n",
        "H_l_pump = H_l_pump_0 * K_HQ\n",
        "Q_l_pump, H_l_pump"
      ],
      "metadata": {
        "colab": {
          "base_uri": "https://localhost:8080/"
        },
        "id": "d9RS0dgkxivl",
        "outputId": "644faeda-5dd4-44a9-d08c-22b9934de2c0"
      },
      "execution_count": null,
      "outputs": [
        {
          "output_type": "execute_result",
          "data": {
            "text/plain": [
              "(array([28.17892725, 31.77445677, 38.98919079, 46.22154384, 53.46357712,\n",
              "        60.71149846]),\n",
              " array([459.96060388, 452.66685478, 438.70637482, 418.88274107,\n",
              "        388.71839392, 346.6247115 ]))"
            ]
          },
          "metadata": {},
          "execution_count": 111
        }
      ]
    },
    {
      "cell_type": "markdown",
      "source": [
        "Повторение расчетов"
      ],
      "metadata": {
        "id": "NNgEf1fB2Dwz"
      }
    },
    {
      "cell_type": "code",
      "source": [
        "for i in range(5):\n",
        "    Re_o = (4.3 + 0.816 * n_s ** 0.274) / n_s ** 0.575 * Q_l_pump * rho_mix[-1] / mu_em * (50 / Q_opt) ** (-0.75)\n",
        "    K_HQ = Re_o / (Re_o - 50 + 200 * Q_l_pump / Q_opt)\n",
        "    Q_l_pump = Q_l_pump_0 * K_HQ\n",
        "    H_l_pump = H_l_pump_0 * K_HQ\n",
        "\n",
        "Q_l_pump, H_l_pump"
      ],
      "metadata": {
        "colab": {
          "base_uri": "https://localhost:8080/"
        },
        "id": "ukCIh61HzEWT",
        "outputId": "08a8ef8b-c8e3-4f4c-db33-0bd4bf2b3410"
      },
      "execution_count": null,
      "outputs": [
        {
          "output_type": "execute_result",
          "data": {
            "text/plain": [
              "(array([28.84533248, 32.47760813, 39.74217647, 47.00675205, 54.27132968,\n",
              "        61.53590802]),\n",
              " array([470.8382413 , 462.68412483, 447.17896964, 425.99869043,\n",
              "        394.59133202, 351.33157487]))"
            ]
          },
          "metadata": {},
          "execution_count": 112
        }
      ]
    },
    {
      "cell_type": "code",
      "source": [
        "fig, ax = plt.subplots(1, 1)  # Create a figure containing a single axes.\n",
        "ax.plot(Q_l_pump, H_l_pump)  # Plot some data on the axes.\n",
        "ax.grid()\n",
        "ax.set_xlabel('Q, м^3/сут')\n",
        "ax.set_ylabel('H, м')\n",
        "#ax.set_xlim(25, 65)\n",
        "#ax.set_ylim(1900, 2600)\n",
        "\n",
        "#ax.plot([P_pump, P_pump], [780, 600], color='black', linewidth=1, linestyle='--')\n",
        "#ax.plot([P_pump, 1], [780, 780], color='black', linewidth=1, linestyle='--')\n",
        "\n",
        "#ax.text(P_pump, 550, r'$P_{пр}$')\n",
        "#ax.text(0.5, 750, r'$H_{сп}$')"
      ],
      "metadata": {
        "colab": {
          "base_uri": "https://localhost:8080/",
          "height": 467
        },
        "id": "zOe2raSF0oSo",
        "outputId": "6ef23468-13b3-4c07-c2fa-cc8e9d087bed"
      },
      "execution_count": null,
      "outputs": [
        {
          "output_type": "execute_result",
          "data": {
            "text/plain": [
              "Text(0, 0.5, 'H, м')"
            ]
          },
          "metadata": {},
          "execution_count": 113
        },
        {
          "output_type": "display_data",
          "data": {
            "text/plain": [
              "<Figure size 640x480 with 1 Axes>"
            ],
            "image/png": "[encoded data removed]"
          },
          "metadata": {}
        }
      ]
    },
    {
      "cell_type": "code",
      "source": [
        "H_pump = pd.DataFrame({'Q': Q_l_pump, 'H': H_l_pump})\n",
        "H_pump"
      ],
      "metadata": {
        "colab": {
          "base_uri": "https://localhost:8080/",
          "height": 237
        },
        "id": "BWersBnBVKFn",
        "outputId": "b49c9b65-097c-47b1-de0f-fcda36062c99"
      },
      "execution_count": null,
      "outputs": [
        {
          "output_type": "execute_result",
          "data": {
            "text/plain": [
              "           Q           H\n",
              "0  28.845332  470.838241\n",
              "1  32.477608  462.684125\n",
              "2  39.742176  447.178970\n",
              "3  47.006752  425.998690\n",
              "4  54.271330  394.591332\n",
              "5  61.535908  351.331575"
            ],
            "text/html": [
              "\n",
              "  <div id=\"df-9ed10994-c902-4bb4-97b6-6f1078df2e80\" class=\"colab-df-container\">\n",
              "    <div>\n",
              "<style scoped>\n",
              "    .dataframe tbody tr th:only-of-type {\n",
              "        vertical-align: middle;\n",
              "    }\n",
              "\n",
              "    .dataframe tbody tr th {\n",
              "        vertical-align: top;\n",
              "    }\n",
              "\n",
              "    .dataframe thead th {\n",
              "        text-align: right;\n",
              "    }\n",
              "</style>\n",
              "<table border=\"1\" class=\"dataframe\">\n",
              "  <thead>\n",
              "    <tr style=\"text-align: right;\">\n",
              "      <th></th>\n",
              "      <th>Q</th>\n",
              "      <th>H</th>\n",
              "    </tr>\n",
              "  </thead>\n",
              "  <tbody>\n",
              "    <tr>\n",
              "      <th>0</th>\n",
              "      <td>28.845332</td>\n",
              "      <td>470.838241</td>\n",
              "    </tr>\n",
              "    <tr>\n",
              "      <th>1</th>\n",
              "      <td>32.477608</td>\n",
              "      <td>462.684125</td>\n",
              "    </tr>\n",
              "    <tr>\n",
              "      <th>2</th>\n",
              "      <td>39.742176</td>\n",
              "      <td>447.178970</td>\n",
              "    </tr>\n",
              "    <tr>\n",
              "      <th>3</th>\n",
              "      <td>47.006752</td>\n",
              "      <td>425.998690</td>\n",
              "    </tr>\n",
              "    <tr>\n",
              "      <th>4</th>\n",
              "      <td>54.271330</td>\n",
              "      <td>394.591332</td>\n",
              "    </tr>\n",
              "    <tr>\n",
              "      <th>5</th>\n",
              "      <td>61.535908</td>\n",
              "      <td>351.331575</td>\n",
              "    </tr>\n",
              "  </tbody>\n",
              "</table>\n",
              "</div>\n",
              "    <div class=\"colab-df-buttons\">\n",
              "\n",
              "  <div class=\"colab-df-container\">\n",
              "    <button class=\"colab-df-convert\" onclick=\"convertToInteractive('df-9ed10994-c902-4bb4-97b6-6f1078df2e80')\"\n",
              "            title=\"Convert this dataframe to an interactive table.\"\n",
              "            style=\"display:none;\">\n",
              "\n",
              "  <svg xmlns=\"http://www.w3.org/2000/svg\" height=\"24px\" viewBox=\"0 -960 960 960\">\n",
              "    <path d=\"M120-120v-720h720v720H120Zm60-500h600v-160H180v160Zm220 220h160v-160H400v160Zm0 220h160v-160H400v160ZM180-400h160v-160H180v160Zm440 0h160v-160H620v160ZM180-180h160v-160H180v160Zm440 0h160v-160H620v160Z\"/>\n",
              "  </svg>\n",
              "    </button>\n",
              "\n",
              "  <style>\n",
              "    .colab-df-container {\n",
              "      display:flex;\n",
              "      gap: 12px;\n",
              "    }\n",
              "\n",
              "    .colab-df-convert {\n",
              "      background-color: #E8F0FE;\n",
              "      border: none;\n",
              "      border-radius: 50%;\n",
              "      cursor: pointer;\n",
              "      display: none;\n",
              "      fill: #1967D2;\n",
              "      height: 32px;\n",
              "      padding: 0 0 0 0;\n",
              "      width: 32px;\n",
              "    }\n",
              "\n",
              "    .colab-df-convert:hover {\n",
              "      background-color: #E2EBFA;\n",
              "      box-shadow: 0px 1px 2px rgba(60, 64, 67, 0.3), 0px 1px 3px 1px rgba(60, 64, 67, 0.15);\n",
              "      fill: #174EA6;\n",
              "    }\n",
              "\n",
              "    .colab-df-buttons div {\n",
              "      margin-bottom: 4px;\n",
              "    }\n",
              "\n",
              "    [theme=dark] .colab-df-convert {\n",
              "      background-color: #3B4455;\n",
              "      fill: #D2E3FC;\n",
              "    }\n",
              "\n",
              "    [theme=dark] .colab-df-convert:hover {\n",
              "      background-color: #434B5C;\n",
              "      box-shadow: 0px 1px 3px 1px rgba(0, 0, 0, 0.15);\n",
              "      filter: drop-shadow(0px 1px 2px rgba(0, 0, 0, 0.3));\n",
              "      fill: #FFFFFF;\n",
              "    }\n",
              "  </style>\n",
              "\n",
              "    <script>\n",
              "      const buttonEl =\n",
              "        document.querySelector('#df-9ed10994-c902-4bb4-97b6-6f1078df2e80 button.colab-df-convert');\n",
              "      buttonEl.style.display =\n",
              "        google.colab.kernel.accessAllowed ? 'block' : 'none';\n",
              "\n",
              "      async function convertToInteractive(key) {\n",
              "        const element = document.querySelector('#df-9ed10994-c902-4bb4-97b6-6f1078df2e80');\n",
              "        const dataTable =\n",
              "          await google.colab.kernel.invokeFunction('convertToInteractive',\n",
              "                                                    [key], {});\n",
              "        if (!dataTable) return;\n",
              "\n",
              "        const docLinkHtml = 'Like what you see? Visit the ' +\n",
              "          '<a target=\"_blank\" href=https://colab.research.google.com/notebooks/data_table.ipynb>data table notebook</a>'\n",
              "          + ' to learn more about interactive tables.';\n",
              "        element.innerHTML = '';\n",
              "        dataTable['output_type'] = 'display_data';\n",
              "        await google.colab.output.renderOutput(dataTable, element);\n",
              "        const docLink = document.createElement('div');\n",
              "        docLink.innerHTML = docLinkHtml;\n",
              "        element.appendChild(docLink);\n",
              "      }\n",
              "    </script>\n",
              "  </div>\n",
              "\n",
              "\n",
              "<div id=\"df-ab924248-7213-452d-ac7a-a6479dca9494\">\n",
              "  <button class=\"colab-df-quickchart\" onclick=\"quickchart('df-ab924248-7213-452d-ac7a-a6479dca9494')\"\n",
              "            title=\"Suggest charts\"\n",
              "            style=\"display:none;\">\n",
              "\n",
              "<svg xmlns=\"http://www.w3.org/2000/svg\" height=\"24px\"viewBox=\"0 0 24 24\"\n",
              "     width=\"24px\">\n",
              "    <g>\n",
              "        <path d=\"M19 3H5c-1.1 0-2 .9-2 2v14c0 1.1.9 2 2 2h14c1.1 0 2-.9 2-2V5c0-1.1-.9-2-2-2zM9 17H7v-7h2v7zm4 0h-2V7h2v10zm4 0h-2v-4h2v4z\"/>\n",
              "    </g>\n",
              "</svg>\n",
              "  </button>\n",
              "\n",
              "<style>\n",
              "  .colab-df-quickchart {\n",
              "      --bg-color: #E8F0FE;\n",
              "      --fill-color: #1967D2;\n",
              "      --hover-bg-color: #E2EBFA;\n",
              "      --hover-fill-color: #174EA6;\n",
              "      --disabled-fill-color: #AAA;\n",
              "      --disabled-bg-color: #DDD;\n",
              "  }\n",
              "\n",
              "  [theme=dark] .colab-df-quickchart {\n",
              "      --bg-color: #3B4455;\n",
              "      --fill-color: #D2E3FC;\n",
              "      --hover-bg-color: #434B5C;\n",
              "      --hover-fill-color: #FFFFFF;\n",
              "      --disabled-bg-color: #3B4455;\n",
              "      --disabled-fill-color: #666;\n",
              "  }\n",
              "\n",
              "  .colab-df-quickchart {\n",
              "    background-color: var(--bg-color);\n",
              "    border: none;\n",
              "    border-radius: 50%;\n",
              "    cursor: pointer;\n",
              "    display: none;\n",
              "    fill: var(--fill-color);\n",
              "    height: 32px;\n",
              "    padding: 0;\n",
              "    width: 32px;\n",
              "  }\n",
              "\n",
              "  .colab-df-quickchart:hover {\n",
              "    background-color: var(--hover-bg-color);\n",
              "    box-shadow: 0 1px 2px rgba(60, 64, 67, 0.3), 0 1px 3px 1px rgba(60, 64, 67, 0.15);\n",
              "    fill: var(--button-hover-fill-color);\n",
              "  }\n",
              "\n",
              "  .colab-df-quickchart-complete:disabled,\n",
              "  .colab-df-quickchart-complete:disabled:hover {\n",
              "    background-color: var(--disabled-bg-color);\n",
              "    fill: var(--disabled-fill-color);\n",
              "    box-shadow: none;\n",
              "  }\n",
              "\n",
              "  .colab-df-spinner {\n",
              "    border: 2px solid var(--fill-color);\n",
              "    border-color: transparent;\n",
              "    border-bottom-color: var(--fill-color);\n",
              "    animation:\n",
              "      spin 1s steps(1) infinite;\n",
              "  }\n",
              "\n",
              "  @keyframes spin {\n",
              "    0% {\n",
              "      border-color: transparent;\n",
              "      border-bottom-color: var(--fill-color);\n",
              "      border-left-color: var(--fill-color);\n",
              "    }\n",
              "    20% {\n",
              "      border-color: transparent;\n",
              "      border-left-color: var(--fill-color);\n",
              "      border-top-color: var(--fill-color);\n",
              "    }\n",
              "    30% {\n",
              "      border-color: transparent;\n",
              "      border-left-color: var(--fill-color);\n",
              "      border-top-color: var(--fill-color);\n",
              "      border-right-color: var(--fill-color);\n",
              "    }\n",
              "    40% {\n",
              "      border-color: transparent;\n",
              "      border-right-color: var(--fill-color);\n",
              "      border-top-color: var(--fill-color);\n",
              "    }\n",
              "    60% {\n",
              "      border-color: transparent;\n",
              "      border-right-color: var(--fill-color);\n",
              "    }\n",
              "    80% {\n",
              "      border-color: transparent;\n",
              "      border-right-color: var(--fill-color);\n",
              "      border-bottom-color: var(--fill-color);\n",
              "    }\n",
              "    90% {\n",
              "      border-color: transparent;\n",
              "      border-bottom-color: var(--fill-color);\n",
              "    }\n",
              "  }\n",
              "</style>\n",
              "\n",
              "  <script>\n",
              "    async function quickchart(key) {\n",
              "      const quickchartButtonEl =\n",
              "        document.querySelector('#' + key + ' button');\n",
              "      quickchartButtonEl.disabled = true;  // To prevent multiple clicks.\n",
              "      quickchartButtonEl.classList.add('colab-df-spinner');\n",
              "      try {\n",
              "        const charts = await google.colab.kernel.invokeFunction(\n",
              "            'suggestCharts', [key], {});\n",
              "      } catch (error) {\n",
              "        console.error('Error during call to suggestCharts:', error);\n",
              "      }\n",
              "      quickchartButtonEl.classList.remove('colab-df-spinner');\n",
              "      quickchartButtonEl.classList.add('colab-df-quickchart-complete');\n",
              "    }\n",
              "    (() => {\n",
              "      let quickchartButtonEl =\n",
              "        document.querySelector('#df-ab924248-7213-452d-ac7a-a6479dca9494 button');\n",
              "      quickchartButtonEl.style.display =\n",
              "        google.colab.kernel.accessAllowed ? 'block' : 'none';\n",
              "    })();\n",
              "  </script>\n",
              "</div>\n",
              "    </div>\n",
              "  </div>\n"
            ],
            "application/vnd.google.colaboratory.intrinsic+json": {
              "type": "dataframe",
              "variable_name": "H_pump",
              "summary": "{\n  \"name\": \"H_pump\",\n  \"rows\": 6,\n  \"fields\": [\n    {\n      \"column\": \"Q\",\n      \"properties\": {\n        \"dtype\": \"number\",\n        \"std\": 12.66968767475775,\n        \"min\": 28.84533247973222,\n        \"max\": 61.535908022614464,\n        \"num_unique_values\": 6,\n        \"samples\": [\n          28.84533247973222,\n          32.47760813037599,\n          61.535908022614464\n        ],\n        \"semantic_type\": \"\",\n        \"description\": \"\"\n      }\n    },\n    {\n      \"column\": \"H\",\n      \"properties\": {\n        \"dtype\": \"number\",\n        \"std\": 45.52959263407496,\n        \"min\": 351.33157486661446,\n        \"max\": 470.8382413048862,\n        \"num_unique_values\": 6,\n        \"samples\": [\n          470.8382413048862,\n          462.684124827369,\n          351.33157486661446\n        ],\n        \"semantic_type\": \"\",\n        \"description\": \"\"\n      }\n    }\n  ]\n}"
            }
          },
          "metadata": {},
          "execution_count": 114
        }
      ]
    },
    {
      "cell_type": "markdown",
      "source": [
        "# **2.7. Подбор погружного электродвигателя**"
      ],
      "metadata": {
        "id": "Emx9scMd2daR"
      }
    },
    {
      "cell_type": "markdown",
      "source": [
        "Параметры ПЭД"
      ],
      "metadata": {
        "id": "aNCWhhx72paP"
      }
    },
    {
      "cell_type": "code",
      "source": [
        "D_el = 0.117\n",
        "N = 63\n",
        "U = 2000\n",
        "I = 25.5\n",
        "KPD = 0.86\n",
        "cos_phi = 0.84\n",
        "i = 5"
      ],
      "metadata": {
        "id": "jO2__hBH2lsH"
      },
      "execution_count": null,
      "outputs": []
    },
    {
      "cell_type": "markdown",
      "source": [
        "Расчет скорости потока откачиваемой жидкости"
      ],
      "metadata": {
        "id": "dtKnIot43GfU"
      }
    },
    {
      "cell_type": "code",
      "source": [
        "F = 0.785 * (d_casing ** 2 - D_el ** 2)\n",
        "W = Q / (86400 * F)\n",
        "F, W, d_casing"
      ],
      "metadata": {
        "colab": {
          "base_uri": "https://localhost:8080/"
        },
        "id": "GHNMOaLn3Fzd",
        "outputId": "788e77ed-0dde-491a-cb44-bbb255272f43"
      },
      "execution_count": null,
      "outputs": [
        {
          "output_type": "execute_result",
          "data": {
            "text/plain": [
              "(0.0029527068499999986, 0.13583799657525678, 0.1321)"
            ]
          },
          "metadata": {},
          "execution_count": 116
        }
      ]
    },
    {
      "cell_type": "markdown",
      "source": [
        "# **2.8 Подбор кабеля, трансформатора и станции управления**"
      ],
      "metadata": {
        "id": "kyRGauVab8k-"
      }
    },
    {
      "cell_type": "markdown",
      "source": [
        "**Выбор кабеля**"
      ],
      "metadata": {
        "id": "Kmn87hAPYH4s"
      }
    },
    {
      "cell_type": "markdown",
      "source": [
        "1. Определение сечения жилы кабеля"
      ],
      "metadata": {
        "id": "rigdxq4_WrtJ"
      }
    },
    {
      "cell_type": "code",
      "source": [
        "S = I / i\n",
        "S"
      ],
      "metadata": {
        "colab": {
          "base_uri": "https://localhost:8080/"
        },
        "id": "E3OBJpglcJj4",
        "outputId": "5c56721e-8770-466b-f8bd-6ea5fb50a433"
      },
      "execution_count": null,
      "outputs": [
        {
          "output_type": "execute_result",
          "data": {
            "text/plain": [
              "5.1"
            ]
          },
          "metadata": {},
          "execution_count": 127
        }
      ]
    },
    {
      "cell_type": "markdown",
      "source": [
        "2. Определение потери мощности"
      ],
      "metadata": {
        "id": "Jzn6SouMW15G"
      }
    },
    {
      "cell_type": "code",
      "source": [
        "rho_cup = 0.0175\n",
        "alphaT = 0.004\n",
        "T_pump = 330"
      ],
      "metadata": {
        "id": "6vXHsGPPedzO"
      },
      "execution_count": null,
      "outputs": []
    },
    {
      "cell_type": "code",
      "source": [
        "R = rho_cup * (1 + alphaT + (T_pump - 293)) / S\n",
        "R"
      ],
      "metadata": {
        "colab": {
          "base_uri": "https://localhost:8080/"
        },
        "id": "vDf4CNiEfCZY",
        "outputId": "32b40e77-8dff-469f-d6b0-a881740d0bdd"
      },
      "execution_count": null,
      "outputs": [
        {
          "output_type": "execute_result",
          "data": {
            "text/plain": [
              "0.1304058823529412"
            ]
          },
          "metadata": {},
          "execution_count": 129
        }
      ]
    },
    {
      "cell_type": "markdown",
      "source": [
        "3. Определение общей длины кабеля"
      ],
      "metadata": {
        "id": "B9A91D-TW6e-"
      }
    },
    {
      "cell_type": "code",
      "source": [
        "L_k = L_pump + 100\n",
        "L_k"
      ],
      "metadata": {
        "colab": {
          "base_uri": "https://localhost:8080/"
        },
        "id": "iiFjezPRW93_",
        "outputId": "e0921acf-14a1-43c2-b879-0f48c63906a5"
      },
      "execution_count": null,
      "outputs": [
        {
          "output_type": "execute_result",
          "data": {
            "text/plain": [
              "1275"
            ]
          },
          "metadata": {},
          "execution_count": 130
        }
      ]
    },
    {
      "cell_type": "code",
      "source": [
        "delta_P_k = 3 * I ** 2 * R * L_k * 10 ** (-3)\n",
        "delta_P_k"
      ],
      "metadata": {
        "colab": {
          "base_uri": "https://localhost:8080/"
        },
        "id": "0SAGXWBAXMvJ",
        "outputId": "c851e6f0-3710-4fb8-f41b-6736f99064f1"
      },
      "execution_count": null,
      "outputs": [
        {
          "output_type": "execute_result",
          "data": {
            "text/plain": [
              "324.3463256250001"
            ]
          },
          "metadata": {},
          "execution_count": 131
        }
      ]
    },
    {
      "cell_type": "markdown",
      "source": [
        "**Выбор трансформатора**"
      ],
      "metadata": {
        "id": "oelJff2MYSVb"
      }
    },
    {
      "cell_type": "markdown",
      "source": [
        "1. Мощность трансформатора"
      ],
      "metadata": {
        "id": "2_tnDoJNYXU5"
      }
    },
    {
      "cell_type": "code",
      "source": [
        "P_trans = delta_P_k + N / KPD\n",
        "P_trans"
      ],
      "metadata": {
        "colab": {
          "base_uri": "https://localhost:8080/"
        },
        "id": "savfOFNjYcys",
        "outputId": "bdfdede1-1c46-437c-f158-3d865f5f702a"
      },
      "execution_count": null,
      "outputs": [
        {
          "output_type": "execute_result",
          "data": {
            "text/plain": [
              "397.60213957848845"
            ]
          },
          "metadata": {},
          "execution_count": 132
        }
      ]
    },
    {
      "cell_type": "markdown",
      "source": [
        "2. Величина падения напряжения на кабеле"
      ],
      "metadata": {
        "id": "mgfKaHEbZTWy"
      }
    },
    {
      "cell_type": "code",
      "source": [
        "R_k = R * 1000\n",
        "R_k"
      ],
      "metadata": {
        "colab": {
          "base_uri": "https://localhost:8080/"
        },
        "id": "JmK-cCspVrAl",
        "outputId": "4217ba27-aae0-402f-f78c-20cf569c9715"
      },
      "execution_count": null,
      "outputs": [
        {
          "output_type": "execute_result",
          "data": {
            "text/plain": [
              "130.4058823529412"
            ]
          },
          "metadata": {},
          "execution_count": 133
        }
      ]
    },
    {
      "cell_type": "code",
      "source": [
        "X_0 = 0.1 * 10 ** (-3)\n",
        "sin_phi = (1 - cos_phi ** 2) ** 0.5\n",
        "delta_U = 3 ** 0.5 *(R * cos_phi + X_0 * sin_phi) * I * L_k\n",
        "delta_U"
      ],
      "metadata": {
        "colab": {
          "base_uri": "https://localhost:8080/"
        },
        "id": "UlSQG0gwZb9A",
        "outputId": "4c7900f1-2028-4745-d072-8e6b1015012e"
      },
      "execution_count": null,
      "outputs": [
        {
          "output_type": "execute_result",
          "data": {
            "text/plain": [
              "6171.667571974932"
            ]
          },
          "metadata": {},
          "execution_count": 134
        }
      ]
    },
    {
      "cell_type": "code",
      "source": [
        "U_tr = U + delta_U\n",
        "U_tr"
      ],
      "metadata": {
        "colab": {
          "base_uri": "https://localhost:8080/"
        },
        "id": "pODlGYIbV23V",
        "outputId": "c0fb26a5-50d4-40d6-fb5a-d1a4ef733cbc"
      },
      "execution_count": null,
      "outputs": [
        {
          "output_type": "execute_result",
          "data": {
            "text/plain": [
              "8171.667571974932"
            ]
          },
          "metadata": {},
          "execution_count": 135
        }
      ]
    }
  ]
}